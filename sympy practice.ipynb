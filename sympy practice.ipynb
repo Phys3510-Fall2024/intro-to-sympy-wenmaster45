{
 "cells": [
  {
   "cell_type": "markdown",
   "id": "b8b2516b-337a-4b44-b51d-dd2a2f649bc3",
   "metadata": {},
   "source": [
    "## Testing\n"
   ]
  },
  {
   "cell_type": "code",
   "execution_count": 30,
   "id": "8fa1cbdc-9a4c-4c87-9524-79d73ca56b50",
   "metadata": {},
   "outputs": [
    {
     "data": {
      "text/plain": [
       "True"
      ]
     },
     "execution_count": 30,
     "metadata": {},
     "output_type": "execute_result"
    }
   ],
   "source": [
    "# import needed modules/libraries\n",
    "import sympy as sp\n",
    "# define all variables\n",
    "A, B, omega_0, omega_gamma, gamma, t= sp.symbols(\"A, B, omega_0, omega_gamma, gamma, t\", real=True)\n",
    "Q = sp.Function(\"Q\")(t)\n",
    "\n",
    "\n",
    "# define the differential equation\n",
    "diff_eqn_ref=sp.diff(Q,t,2) + 2*gamma*sp.diff(Q,t,1) + (omega_0**2)*Q\n",
    "\n",
    "# define our guess for solution\n",
    "Q_tr_guess= sp.exp(-gamma*t) * (A*sp.cos(omega_gamma*t) + B*sp.sin(omega_gamma*t))\n",
    "\n",
    "\n",
    "# plug our guess into te differential equation\n",
    "omega_gamma_expr= sp.sqrt(omega_0**2-gamma**2)\n",
    "\n",
    "diff_eq_test= sp.diff(Q_tr_guess,t,2) + 2*gamma*sp.diff(Q_tr_guess,t,1) + (omega_0**2)*Q_tr_guess\n",
    "\n",
    "# print diff eq test\n",
    "#diff_eq_test.simplify()\n",
    "test_result= diff_eq_test.subs(omega_gamma, omega_gamma_expr)\n",
    "test_result.simplify().is_zero   "
   ]
  },
  {
   "cell_type": "code",
   "execution_count": null,
   "id": "38e337ef-b8a8-4ea5-bb2d-35d6ac23d2bf",
   "metadata": {},
   "outputs": [],
   "source": []
  },
  {
   "cell_type": "markdown",
   "id": "28a06f25-edae-4a1d-867c-91a9262a6225",
   "metadata": {},
   "source": [
    "## Deriving the steady solution to the damped, driven armonic oscillator\n",
    "\n",
    "We want to solve\n",
    "\n",
    "$ \\ddot{Q} + 2 \\gamma \\dot{Q} + \\omega_0^2 Q = (F_0/m) e^{i\\omega} $ "
   ]
  },
  {
   "cell_type": "code",
   "execution_count": null,
   "id": "ff450886-7a0e-4e0d-bdfe-b4365134bea0",
   "metadata": {},
   "outputs": [],
   "source": [
    "# import needed modules\n",
    "import sympy as sp\n",
    "\n",
    "# define needed variable\n",
    "omega_0, F_0, omega, gamma, t, m= sp.symbols(\"m, t, omega_0, omega, gamma, F_0\", real=True)\n",
    "C= sp.symbols(\"C\", complex=True)\n",
    "F= sp.Function(\"F\")(t)\n",
    "Q= sp.Function(\"Q\")(t)\n",
    "\n",
    "# define the differential equation\n",
    "diff_eqn_ref=sp.Eq(\n",
    "    sp.diff(Q,t,2) + 2*gamma*sp.diff(Q,t,1) + (omega_0**2)*Q, #left-hand side\n",
    "    F/m #right-hand side\n",
    ")\n",
    "\n",
    "\n",
    "# define our guess for solution\n",
    "Q_st_guess= C*sp.exp(sp.I*omega*t)\n",
    "drive_expr= (F_0/m)*sp.exp(sp.I*omega*t)\n",
    "drive_real= sp.re(drive_expr)\n",
    "\n",
    "# plug in our guess\n",
    "diff_eqn_guess=sp.Eq(\n",
    "    sp.diff(Q_st_guess,t,2) + 2*gamma*sp.diff(Q_st_guess,t,1) + (omega_0**2)*Q_st_guess, #left-hand side\n",
    "    drive_expr #right-hand side\n",
    ")\n",
    "\n",
    "\n",
    "# solve for the coefficient C\n",
    "C_sol= sp.solve(diff_eqn_guess, C)[0]\n",
    "\n",
    "# find the real part of solution\n",
    "sp.re(\n",
    "    sp.expand_complex(C_sol*sp.exp(sp.I*omega*t)).simplify()\n",
    ")\n",
    "\n",
    "# plug the real part of the solution into the differential equation\n",
    " \n",
    "\n",
    "# test the alternative, analytic form of te solution"
   ]
  }
 ],
 "metadata": {
  "kernelspec": {
   "display_name": "Python 3 (ipykernel)",
   "language": "python",
   "name": "python3"
  },
  "language_info": {
   "codemirror_mode": {
    "name": "ipython",
    "version": 3
   },
   "file_extension": ".py",
   "mimetype": "text/x-python",
   "name": "python",
   "nbconvert_exporter": "python",
   "pygments_lexer": "ipython3",
   "version": "3.9.19"
  }
 },
 "nbformat": 4,
 "nbformat_minor": 5
}
