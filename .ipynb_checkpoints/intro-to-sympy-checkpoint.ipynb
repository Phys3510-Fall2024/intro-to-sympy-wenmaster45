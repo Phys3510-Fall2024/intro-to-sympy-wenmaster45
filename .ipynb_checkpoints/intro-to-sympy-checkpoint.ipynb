{
 "cells": [
  {
   "cell_type": "markdown",
   "id": "9c011f8e-c91f-4ed2-9aac-7cec86e4a071",
   "metadata": {},
   "source": [
    "# Working in SymPy\n",
    "\n",
    "`SymPy` is a package for symbolic manipulation of expressions, equations, and calculus. The [website](https://docs.sympy.org/latest/index.html) for `SymPy` has tutorials explaining how things work. You can also use the `help()` and `dir()` functions to explore the properties of the `SymPy` package.\n",
    "\n",
    "The way it is structured is that the different mathematical objects are defined with capital letters (e.g. `Symbol`, `Function`, `Matrix`) while the functions and utilities are defined with lower-case leading letters (e.g. `simplify`, `dsolve`)."
   ]
  },
  {
   "cell_type": "markdown",
   "id": "f02f4bb2-26fe-46c7-b8fb-4336f4c2576e",
   "metadata": {},
   "source": [
    "### 1. **Basic Operations**\n",
    "\n",
    "- `symbols()`: Define symbolic variables for expressions.\n",
    "- `subs()`: Substitute values or expressions for variables.\n",
    "- `sympify()`: Convert strings or Python objects to SymPy expressions.\n",
    "- `evalf()`: Evaluate expressions to floating-point numbers.\n",
    "- `lambdify()`: Convert symbolic expressions to numerical functions (supports backends like NumPy and SciPy).\n"
   ]
  },
  {
   "cell_type": "markdown",
   "id": "c273a14c-4628-42e5-8431-0cbd58476e53",
   "metadata": {},
   "source": [
    "### 2. **Simplifying Expressions**\n",
    "\n",
    "- `simplify()`: Simplify general expressions (algebraic, trigonometric, etc.).\n",
    "- `expand()`: Expand an expression (e.g., expand a polynomial or product).\n",
    "- `factor()`: Factor expressions (e.g., factor a polynomial).\n",
    "- `collect()`: Collect like terms in an expression.\n",
    "- `apart()`: Partial fraction decomposition of rational expressions.\n",
    "- `cancel()`: Cancel common factors in a rational function.\n",
    "- `trigsimp()`: Simplify trigonometric expressions.\n",
    "- `logcombine()`: Combine logarithmic terms into a single expression.\n",
    "- `powsimp()`: Simplify powers and exponents.\n"
   ]
  },
  {
   "cell_type": "markdown",
   "id": "17af0651-4cea-4dee-8b50-ff48f9118935",
   "metadata": {},
   "source": [
    "### 3. **Calculus**\n",
    "\n",
    "#### 3.1 Derivatives\n",
    "- `diff()`: Compute derivatives of expressions (supports higher-order derivatives).\n",
    "\n",
    "#### 3.2 Integrals\n",
    "- `integrate()`: Compute symbolic integrals (both definite and indefinite).\n",
    "- `integrate(f, (var, a, b))`: Compute definite integrals over an interval.\n",
    "  \n",
    "#### 3.3 Limits\n",
    "- `limit()`: Compute the limit of an expression as a variable approaches a value.\n",
    "\n",
    "#### 3.4 Series\n",
    "- `series()`: Expand a function in a Taylor or Laurent series around a point.\n"
   ]
  },
  {
   "cell_type": "markdown",
   "id": "87d5dd3d-d260-4df4-a02b-0e3e1525ffde",
   "metadata": {},
   "source": [
    "### 4. **Linear Algebra**\n",
    "\n",
    "- `Matrix()`: Define symbolic matrices.\n",
    "- `det()`: Compute the determinant of a matrix.\n",
    "- `inv()`: Compute the inverse of a matrix.\n",
    "- `eigenvals()`: Compute eigenvalues of a matrix.\n",
    "- `eigenvects()`: Compute eigenvectors of a matrix.\n",
    "- `solve_linear_system()`: Solve a system of linear equations.\n",
    "- `transpose()`: Transpose a matrix.\n",
    "- `rref()`: Compute the reduced row echelon form of a matrix.\n"
   ]
  },
  {
   "cell_type": "markdown",
   "id": "fcdad056-2414-42d9-844a-ed5dd00f58ec",
   "metadata": {},
   "source": [
    "### 5. **Differential Equations**\n",
    "\n",
    "- `dsolve()`: Solve ordinary differential equations (ODEs).\n",
    "- `Function()`: Define a function that represents the solution of a differential equation.\n",
    "- `Eq()`: Set up an equation (useful for defining differential equations).\n",
    "- `classify_ode()`: Classify an ODE to determine its solution method.\n",
    "- `checkodesol()`: Check whether a solution satisfies a given differential equation.\n"
   ]
  },
  {
   "cell_type": "markdown",
   "id": "83afdf77-b9ef-49ac-81cb-8808919406cc",
   "metadata": {},
   "source": [
    "### 6. **Solving Equations**\n",
    "\n",
    "- `solve()`: Solve algebraic equations (returns roots or solutions).\n",
    "- `nonlinsolve()`: Solve systems of nonlinear equations.\n",
    "- `linsolve()`: Solve systems of linear equations.\n",
    "- `solvers.solvers.solve()`: A more general solver for symbolic equations.\n",
    "- `solvers.decomp_ineq()`: Decompose inequalities for solving them.\n"
   ]
  },
  {
   "cell_type": "markdown",
   "id": "d553c212-6c9a-4bae-8f59-eac3f40886b5",
   "metadata": {},
   "source": [
    "### 7. **Polynomials**\n",
    "\n",
    "- `Poly()`: Create a polynomial object for more control over polynomials.\n",
    "- `degree()`: Get the degree of a polynomial.\n",
    "- `roots()`: Find the roots of a polynomial.\n",
    "- `gcd()`: Compute the greatest common divisor of polynomials.\n",
    "- `lcm()`: Compute the least common multiple of polynomials.\n"
   ]
  },
  {
   "cell_type": "markdown",
   "id": "29b03144-71d0-437e-88f1-bdc36b948df3",
   "metadata": {},
   "source": [
    "### 8. **Trigonometry**\n",
    "\n",
    "- `sin()`, `cos()`, `tan()`: Basic trigonometric functions.\n",
    "- `asin()`, `acos()`, `atan()`: Inverse trigonometric functions.\n",
    "- `expand_trig()`: Expand trigonometric expressions (e.g., using angle addition formulas).\n",
    "- `trigsimp()`: Simplify trigonometric expressions.\n",
    "- `rewrite()`: Rewrite trigonometric functions in terms of other functions (e.g., rewrite `sin(x)` in terms of exponential functions).\n"
   ]
  },
  {
   "cell_type": "markdown",
   "id": "00b21f75-b3d3-4452-83b2-c9e95ae4a2ca",
   "metadata": {},
   "source": [
    "### Here's an example of how to solve a quadratic equation"
   ]
  },
  {
   "cell_type": "code",
   "execution_count": 2,
   "id": "1292573a-ec37-405d-b771-6148870a5196",
   "metadata": {},
   "outputs": [
    {
     "data": {
      "text/plain": [
       "[(-b - sqrt(-4*a*c + b**2))/(2*a), (-b + sqrt(-4*a*c + b**2))/(2*a)]"
      ]
     },
     "execution_count": 2,
     "metadata": {},
     "output_type": "execute_result"
    }
   ],
   "source": [
    "import sympy as sp\n",
    "\n",
    "# Define the symbolic variables\n",
    "a, b, c, x = sp.symbols('a b c x')\n",
    "\n",
    "# Define the quadratic equation: ax^2 + bx + c = 0\n",
    "quadratic_eq = sp.Eq(a*x**2 + b*x + c, 0)\n",
    "\n",
    "# Solve the quadratic equation for x\n",
    "solutions = sp.solve(quadratic_eq, x)\n",
    "\n",
    "# Display the solutions\n",
    "solutions\n"
   ]
  },
  {
   "cell_type": "markdown",
   "id": "6f130c0d-870b-4e8e-b398-f4a3ea395e30",
   "metadata": {},
   "source": [
    "### Here's an example of how to solve a differential equation"
   ]
  },
  {
   "cell_type": "code",
   "execution_count": 3,
   "id": "1d908ff4-300b-41da-b3a2-e4b466632edb",
   "metadata": {},
   "outputs": [
    {
     "data": {
      "text/latex": [
       "$\\displaystyle y{\\left(x \\right)} = y_{0} e^{- \\frac{b x}{a}} e^{\\frac{b x_{0}}{a}}$"
      ],
      "text/plain": [
       "Eq(y(x), y0*exp(-b*x/a)*exp(b*x0/a))"
      ]
     },
     "execution_count": 3,
     "metadata": {},
     "output_type": "execute_result"
    }
   ],
   "source": [
    "import sympy as sp\n",
    "\n",
    "# Define the symbolic variables and function\n",
    "x, x0, y0, a, b = sp.symbols('x x0 y0 a b')  # Independent variable, constants, initial condition\n",
    "y = sp.Function('y')(x)  # Dependent variable y as a function of x\n",
    "\n",
    "# Define the first-order differential equation: a*y' + b*y = 0\n",
    "diff_eq = sp.Eq(a * y.diff(x) + b * y, 0)\n",
    "\n",
    "# Solve the differential equation\n",
    "general_solution = sp.dsolve(diff_eq, y)\n",
    "\n",
    "# Extract the solution for y(x)\n",
    "solution_y = general_solution.rhs\n",
    "\n",
    "# Apply the initial condition: y(x0) = y0\n",
    "initial_condition = sp.Eq(solution_y.subs(x, x0), y0)\n",
    "\n",
    "# Solve for the constant C1\n",
    "C1_value = sp.solve(initial_condition, sp.symbols('C1'))[0]\n",
    "\n",
    "# Substitute C1 back into the general solution\n",
    "solution_with_ic = general_solution.subs(sp.symbols('C1'), C1_value)\n",
    "\n",
    "# Display the solution with initial conditions\n",
    "solution_with_ic\n"
   ]
  },
  {
   "cell_type": "markdown",
   "id": "3cc4df62-649e-44a5-8162-29d985bff03d",
   "metadata": {},
   "source": [
    "## Assignment (1): Use `SymPy` to test the solutions we derived in class last week. \n",
    "\n",
    "$Q_{tr} = A cos(\\omega_\\gamma t) + B sin(\\omega_\\gamma t)$\n",
    "\n",
    "and \n",
    "\n",
    "$Q_{st} = \\bar{C} cos(\\omega t - \\phi)$\n",
    "\n",
    "where\n",
    "\n",
    "$\\omega_\\gamma = \\omega_0^2 - \\gamma^2$,\n",
    "\n",
    "$\\bar{C} = \\frac{F_0/m}{\\sqrt{(\\omega_0^2-\\omega^2)^2-4\\gamma^2\\omega^2}}$,\n",
    "\n",
    "and\n",
    "\n",
    "$\\phi = \\frac{2\\gamma\\omega}{\\omega_0^2-\\omega^2}$"
   ]
  },
  {
   "cell_type": "code",
   "execution_count": 6,
   "id": "acbdddf9-70cf-43bf-9fd0-0716bac5cefd",
   "metadata": {},
   "outputs": [],
   "source": [
    "import sympy as sp"
   ]
  },
  {
   "cell_type": "code",
   "execution_count": 8,
   "id": "1b0716c4-40ab-41f0-8163-b98d541f52e1",
   "metadata": {},
   "outputs": [
    {
     "name": "stdout",
     "output_type": "stream",
     "text": [
      "Transient Solution Verification:\n",
      "                 ⎛    ⎛       ____________    ⎛     ____________⎞        _____ ↪\n",
      "                 ⎜    ⎜      ╱    2     2     ⎜    ╱    2     2 ⎟       ╱    2 ↪\n",
      "-F₀⋅cos(ω⋅t) + m⋅⎝2⋅γ⋅⎝- A⋅╲╱  - γ  + ω₀  ⋅sin⎝t⋅╲╱  - γ  + ω₀  ⎠ + B⋅╲╱  - γ  ↪\n",
      "────────────────────────────────────────────────────────────────────────────── ↪\n",
      "                                                                               ↪\n",
      "\n",
      "↪ _______    ⎛     ____________⎞⎞       ⎛     ⎛     ____________⎞        ⎛     ↪\n",
      "↪      2     ⎜    ╱    2     2 ⎟⎟     2 ⎜     ⎜    ╱    2     2 ⎟        ⎜     ↪\n",
      "↪  + ω₀  ⋅cos⎝t⋅╲╱  - γ  + ω₀  ⎠⎠ + ω₀ ⋅⎝A⋅cos⎝t⋅╲╱  - γ  + ω₀  ⎠ + B⋅sin⎝t⋅╲╱ ↪\n",
      "↪ ──────────────────────────────────────────────────────────────────────────── ↪\n",
      "↪                                         m                                    ↪\n",
      "\n",
      "↪  ____________⎞⎞              ⎛     ⎛     ____________⎞        ⎛     ________ ↪\n",
      "↪ ╱    2     2 ⎟⎟   ⎛ 2     2⎞ ⎜     ⎜    ╱    2     2 ⎟        ⎜    ╱    2    ↪\n",
      "↪   - γ  + ω₀  ⎠⎠ + ⎝γ  - ω₀ ⎠⋅⎝A⋅cos⎝t⋅╲╱  - γ  + ω₀  ⎠ + B⋅sin⎝t⋅╲╱  - γ  +  ↪\n",
      "↪ ──────────────────────────────────────────────────────────────────────────── ↪\n",
      "↪                                                                              ↪\n",
      "\n",
      "↪ ____⎞⎞⎞\n",
      "↪   2 ⎟⎟⎟\n",
      "↪ ω₀  ⎠⎠⎠\n",
      "↪ ───────\n",
      "↪        \n",
      "\n",
      "Steady-State Solution Verification:\n",
      "              ⎛          ⎛ 2⋅γ⋅ω  ⎞⎞       2    ⎛          ⎛ 2⋅γ⋅ω  ⎞⎞         ↪\n",
      "  2⋅F₀⋅γ⋅ω⋅sin⎜ω⋅t + atan⎜────────⎟⎟   F₀⋅ω ⋅cos⎜ω⋅t + atan⎜────────⎟⎟   F₀⋅ω₀ ↪\n",
      "              ⎜          ⎜ 2     2⎟⎟            ⎜          ⎜ 2     2⎟⎟         ↪\n",
      "              ⎝          ⎝ω  - ω₀ ⎠⎠            ⎝          ⎝ω  - ω₀ ⎠⎠         ↪\n",
      "- ────────────────────────────────── - ─────────────────────────────── + ───── ↪\n",
      "          _______________________             _______________________          ↪\n",
      "         ╱                     2             ╱                     2           ↪\n",
      "        ╱     2  2   ⎛ 2     2⎞             ╱     2  2   ⎛ 2     2⎞            ↪\n",
      "    m⋅╲╱   4⋅γ ⋅ω  + ⎝ω  - ω₀ ⎠         m⋅╲╱   4⋅γ ⋅ω  + ⎝ω  - ω₀ ⎠       m⋅╲╱ ↪\n",
      "\n",
      "↪ 2    ⎛          ⎛ 2⋅γ⋅ω  ⎞⎞              \n",
      "↪  ⋅cos⎜ω⋅t + atan⎜────────⎟⎟              \n",
      "↪      ⎜          ⎜ 2     2⎟⎟              \n",
      "↪      ⎝          ⎝ω  - ω₀ ⎠⎠   F₀⋅cos(ω⋅t)\n",
      "↪ ─────────────────────────── - ───────────\n",
      "↪   _______________________          m     \n",
      "↪  ╱                     2                 \n",
      "↪ ╱     2  2   ⎛ 2     2⎞                  \n",
      "↪    4⋅γ ⋅ω  + ⎝ω  - ω₀ ⎠                  \n"
     ]
    }
   ],
   "source": [
    "t, A, B, gamma, omega_0, omega, F0, m, k = sp.symbols('t A B gamma omega_0 omega F0 m k')\n",
    "y = sp.Function('y')\n",
    "\n",
    "\n",
    "F_drive = F0 / m * sp.cos(omega * t)\n",
    "\n",
    "\n",
    "omega_gamma = sp.sqrt(omega_0**2 - gamma**2)\n",
    "\n",
    "\n",
    "Q_tr = A * sp.cos(omega_gamma * t) + B * sp.sin(omega_gamma * t)\n",
    "\n",
    "\n",
    "C_bar = F0 / m / sp.sqrt((omega_0**2 - omega**2)**2 + (2 * gamma * omega)**2)\n",
    "phi = sp.atan(2 * gamma * omega / (omega_0**2 - omega**2))\n",
    "\n",
    "\n",
    "Q_st = C_bar * sp.cos(omega * t - phi)\n",
    "\n",
    "\n",
    "eq = sp.diff(y(t), t, 2) + 2 * gamma * sp.diff(y(t), t) + omega_0**2 * y(t) - F_drive\n",
    "\n",
    "\n",
    "transient_check = eq.subs(y(t), Q_tr).simplify()\n",
    "\n",
    "\n",
    "steady_state_check = eq.subs(y(t), Q_st).simplify()\n",
    "\n",
    "\n",
    "print(\"Transient Solution Verification:\")\n",
    "sp.pprint(transient_check)\n",
    "\n",
    "print(\"\\nSteady-State Solution Verification:\")\n",
    "sp.pprint(steady_state_check)\n"
   ]
  },
  {
   "cell_type": "markdown",
   "id": "7abe929c-4ca7-4690-84b6-216369e0c4a1",
   "metadata": {},
   "source": [
    "## Assignment (2): Create representative plots of $\\bar{C}$ and $\\phi$ \n"
   ]
  },
  {
   "cell_type": "code",
   "execution_count": 9,
   "id": "f62a7a2c-aa20-4f4a-bc51-4d16e1fd9b49",
   "metadata": {},
   "outputs": [],
   "source": [
    "import numpy as np\n",
    "import matplotlib.pyplot as plt"
   ]
  },
  {
   "cell_type": "code",
   "execution_count": 16,
   "id": "34d2b14c-d2c9-460f-8fc5-600a2ce77699",
   "metadata": {},
   "outputs": [
    {
     "data": {
      "image/png": "[encoded data removed]",
      "text/plain": [
       "<Figure size 1000x500 with 1 Axes>"
      ]
     },
     "metadata": {},
     "output_type": "display_data"
    }
   ],
   "source": [
    "import numpy as np\n",
    "import matplotlib.pyplot as plt\n",
    "\n",
    "\n",
    "F0 = 1.0  \n",
    "m = 1.0   \n",
    "gamma = 0.1  \n",
    "omega_0 = 1.0  \n",
    "\n",
    "\n",
    "omega = np.linspace(0, 2 * omega_0, 500)\n",
    "\n",
    "\n",
    "phi = np.arctan2(2 * gamma * omega, omega_0**2 - omega**2)\n",
    "\n",
    "plt.figure(figsize=(10, 5))\n",
    "plt.plot(omega, phi, label=r\"$\\phi$\", color='red')\n",
    "plt.xlabel(\"Driving Frequency $\\omega$\")\n",
    "plt.ylabel(\"$\\phi$ (radians)\")\n",
    "plt.title(\"Phase $\\phi$ vs. Driving Frequency $\\omega$\")\n",
    "plt.grid()\n",
    "plt.legend()\n",
    "\n",
    "plt.show()\n"
   ]
  },
  {
   "cell_type": "code",
   "execution_count": 25,
   "id": "4b8a36f4-7f4c-450e-9286-3446c1a725e8",
   "metadata": {},
   "outputs": [
    {
     "data": {
      "text/plain": [
       "<matplotlib.legend.Legend at 0x1dc5de299d0>"
      ]
     },
     "execution_count": 25,
     "metadata": {},
     "output_type": "execute_result"
    },
    {
     "data": {
      "image/png": "[encoded data removed]",
      "text/plain": [
       "<Figure size 1000x500 with 1 Axes>"
      ]
     },
     "metadata": {},
     "output_type": "display_data"
    }
   ],
   "source": [
    "C_bar = (F0 / m) / np.sqrt((omega_0**2 - omega**2)**2 + (2 * gamma * omega)**2)\n",
    "\n",
    "\n",
    "\n",
    "plt.figure(figsize=(10, 5))\n",
    "plt.plot(omega, C_bar, label=r\"$\\bar{C}$\", color='blue')\n",
    "plt.xlabel(\"Driving Frequency $\\omega$\")\n",
    "plt.ylabel(\"$Cbar$\")\n",
    "plt.title(\"Amplitude $Cbar$ vs. Driving Frequency $\\omega$\")\n",
    "plt.grid()\n",
    "plt.legend()"
   ]
  },
  {
   "cell_type": "code",
   "execution_count": null,
   "id": "b1867577-2acf-436a-aae4-e5a96340338a",
   "metadata": {},
   "outputs": [],
   "source": []
  }
 ],
 "metadata": {
  "kernelspec": {
   "display_name": "Python 3 (ipykernel)",
   "language": "python",
   "name": "python3"
  },
  "language_info": {
   "codemirror_mode": {
    "name": "ipython",
    "version": 3
   },
   "file_extension": ".py",
   "mimetype": "text/x-python",
   "name": "python",
   "nbconvert_exporter": "python",
   "pygments_lexer": "ipython3",
   "version": "3.9.19"
  }
 },
 "nbformat": 4,
 "nbformat_minor": 5
}
